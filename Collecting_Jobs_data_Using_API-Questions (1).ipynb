{
 "cells": [
  {
   "cell_type": "markdown",
   "metadata": {},
   "source": [
    "<p style=\"text-align:center\">\n",
    "    <a href=\"https://skills.network/?utm_medium=Exinfluencer&utm_source=Exinfluencer&utm_content=000026UJ&utm_term=10006555&utm_id=NA-SkillsNetwork-Channel-SkillsNetworkCoursesIBMDA0321ENSkillsNetwork21426264-2022-01-01\" target=\"_blank\">\n",
    "    <img src=\"https://cf-courses-data.s3.us.cloud-object-storage.appdomain.cloud/assets/logos/SN_web_lightmode.png\" width=\"200\" alt=\"Skills Network Logo\"  />\n",
    "    </a>\n",
    "</p>\n"
   ]
  },
  {
   "cell_type": "markdown",
   "metadata": {},
   "source": [
    "# **Collecting Job Data Using APIs**\n"
   ]
  },
  {
   "cell_type": "markdown",
   "metadata": {},
   "source": [
    "Estimated time needed: **45 to 60** minutes\n"
   ]
  },
  {
   "cell_type": "markdown",
   "metadata": {},
   "source": [
    "## Objectives\n"
   ]
  },
  {
   "cell_type": "markdown",
   "metadata": {},
   "source": [
    "After completing this lab, you will be able to:\n"
   ]
  },
  {
   "cell_type": "markdown",
   "metadata": {},
   "source": [
    "*   Collect job data from Jobs API\n",
    "*   Store the collected data into an excel spreadsheet.\n"
   ]
  },
  {
   "cell_type": "markdown",
   "metadata": {},
   "source": [
    "> <strong>Note: Before starting with the assignment make sure to read all the instructions and then move ahead with the coding part.</strong>\n"
   ]
  },
  {
   "cell_type": "markdown",
   "metadata": {},
   "source": [
    "#### Instructions\n"
   ]
  },
  {
   "cell_type": "markdown",
   "metadata": {},
   "source": [
    "To run the actual lab, firstly you need to click on the [Jobs_API](https://cf-courses-data.s3.us.cloud-object-storage.appdomain.cloud/IBM-DA0321EN-SkillsNetwork/labs/module%201/Accessing%20Data%20Using%20APIs/Jobs_API.ipynb) notebook link. The file contains flask code which is required to run the Jobs API data.\n",
    "\n",
    "Now, to run the code in the file that opens up follow the below steps.\n",
    "\n",
    "Step1: Download the file.\n",
    "\n",
    "Step2: Upload it on the IBM Watson studio. (If IBM Watson Cloud service does not work in your system, follow the alternate Step 2 below)\n",
    "\n",
    "Step2(alternate): Upload it in your SN labs environment using the upload button which is highlighted in red in the image below:\n",
    "Remember to upload this Jobs_API file in the same folder as your current .ipynb file\n",
    "\n",
    "<img src=\"https://cf-courses-data.s3.us.cloud-object-storage.appdomain.cloud/IBM-DA0321EN-SkillsNetwork/labs/module%201/Accessing%20Data%20Using%20APIs/Upload.PNG\" />\n",
    "\n",
    "Step3:  Run all the cells of the Jobs_API file. (Even if you receive an asterik sign after running the last cell, the code works fine.)\n",
    "\n",
    "If you want to learn more about flask, which is optional, you can click on this link [here](https://cf-courses-data.s3.us.cloud-object-storage.appdomain.cloud/IBM-DA0321EN-SkillsNetwork/labs/module%201/Accessing%20Data%20Using%20APIs/FLASK_API.md.html).\n",
    "\n",
    "Once you run the flask code, you can start with your assignment.\n"
   ]
  },
  {
   "cell_type": "markdown",
   "metadata": {},
   "source": [
    "## Dataset Used in this Assignment\n",
    "\n",
    "The dataset used in this lab comes from the following source: [https://www.kaggle.com/promptcloud/jobs-on-naukricom](https://www.kaggle.com/promptcloud/jobs-on-naukricom?utm_medium=Exinfluencer&utm_source=Exinfluencer&utm_content=000026UJ&utm_term=10006555&utm_id=NA-SkillsNetwork-Channel-SkillsNetworkCoursesIBMDA0321ENSkillsNetwork21426264-2022-01-01) under the under a **Public Domain license**.\n",
    "\n",
    "> Note: We are using a modified subset of that dataset for the lab, so to follow the lab instructions successfully please use the dataset provided with the lab, rather than the dataset from the original source.\n",
    "\n",
    "The original dataset is a csv. We have converted the csv to json as per the requirement of the lab.\n"
   ]
  },
  {
   "cell_type": "markdown",
   "metadata": {},
   "source": [
    "## Warm-Up Exercise\n"
   ]
  },
  {
   "cell_type": "markdown",
   "metadata": {},
   "source": [
    "Before you attempt the actual lab, here is a fully solved warmup exercise that will help you to learn how to access an API.\n"
   ]
  },
  {
   "cell_type": "markdown",
   "metadata": {},
   "source": [
    "Using an API, let us find out who currently are on the International Space Station (ISS).<br> The API at [http://api.open-notify.org/astros.json](http://api.open-notify.org/astros.json?utm_medium=Exinfluencer&utm_source=Exinfluencer&utm_content=000026UJ&utm_term=10006555&utm_id=NA-SkillsNetwork-Channel-SkillsNetworkCoursesIBMDA0321ENSkillsNetwork21426264-2021-01-01&cm_mmc=Email_Newsletter-\\_-Developer_Ed%2BTech-\\_-WW_WW-\\_-SkillsNetwork-Courses-IBM-DA0321EN-SkillsNetwork-21426264&cm_mmca1=000026UJ&cm_mmca2=10006555&cm_mmca3=M12345678&cvosrc=email.Newsletter.M12345678&cvo_campaign=000026UJ) gives us the information of astronauts currently on ISS in json format.<br>\n",
    "You can read more about this API at [http://open-notify.org/Open-Notify-API/People-In-Space/](http://open-notify.org/Open-Notify-API/People-In-Space?utm_medium=Exinfluencer&utm_source=Exinfluencer&utm_content=000026UJ&utm_term=10006555&utm_id=NA-SkillsNetwork-Channel-SkillsNetworkCoursesIBMDA0321ENSkillsNetwork21426264-2021-01-01&cm_mmc=Email_Newsletter-\\_-Developer_Ed%2BTech-\\_-WW_WW-\\_-SkillsNetwork-Courses-IBM-DA0321EN-SkillsNetwork-21426264&cm_mmca1=000026UJ&cm_mmca2=10006555&cm_mmca3=M12345678&cvosrc=email.Newsletter.M12345678&cvo_campaign=000026UJ)\n"
   ]
  },
  {
   "cell_type": "code",
   "execution_count": 1,
   "metadata": {},
   "outputs": [],
   "source": [
    "import requests # you need this module to make an API call\n",
    "import pandas as pd"
   ]
  },
  {
   "cell_type": "code",
   "execution_count": 2,
   "metadata": {},
   "outputs": [],
   "source": [
    "api_url = \"http://api.open-notify.org/astros.json\" # this url gives use the astronaut data"
   ]
  },
  {
   "cell_type": "code",
   "execution_count": 3,
   "metadata": {},
   "outputs": [],
   "source": [
    "response = requests.get(api_url) # Call the API using the get method and store the\n",
    "                                # output of the API call in a variable called response."
   ]
  },
  {
   "cell_type": "code",
   "execution_count": 4,
   "metadata": {},
   "outputs": [],
   "source": [
    "if response.ok:             # if all is well() no errors, no network timeouts)\n",
    "    data = response.json()  # store the result in json format in a variable called data\n",
    "                            # the variable data is of type dictionary."
   ]
  },
  {
   "cell_type": "code",
   "execution_count": null,
   "metadata": {},
   "outputs": [],
   "source": []
  },
  {
   "cell_type": "code",
   "execution_count": 5,
   "metadata": {},
   "outputs": [
    {
     "name": "stdout",
     "output_type": "stream",
     "text": [
      "{'number': 10, 'people': [{'name': 'Oleg Artemyev', 'craft': 'ISS'}, {'name': 'Denis Matveev', 'craft': 'ISS'}, {'name': 'Sergey Korsakov', 'craft': 'ISS'}, {'name': 'Kjell Lindgren', 'craft': 'ISS'}, {'name': 'Bob Hines', 'craft': 'ISS'}, {'name': 'Samantha Cristoforetti', 'craft': 'ISS'}, {'name': 'Jessica Watkins', 'craft': 'ISS'}, {'name': 'Cai Xuzhe', 'craft': 'Tiangong'}, {'name': 'Chen Dong', 'craft': 'Tiangong'}, {'name': 'Liu Yang', 'craft': 'Tiangong'}], 'message': 'success'}\n"
     ]
    }
   ],
   "source": [
    "print(data)   # print the data just to check the output or for debugging"
   ]
  },
  {
   "cell_type": "markdown",
   "metadata": {},
   "source": [
    "Print the number of astronauts currently on ISS.\n"
   ]
  },
  {
   "cell_type": "code",
   "execution_count": 6,
   "metadata": {},
   "outputs": [
    {
     "name": "stdout",
     "output_type": "stream",
     "text": [
      "10\n"
     ]
    }
   ],
   "source": [
    "print(data.get('number'))"
   ]
  },
  {
   "cell_type": "markdown",
   "metadata": {},
   "source": [
    "Print the names of the astronauts currently on ISS.\n"
   ]
  },
  {
   "cell_type": "code",
   "execution_count": 7,
   "metadata": {},
   "outputs": [
    {
     "name": "stdout",
     "output_type": "stream",
     "text": [
      "There are 10 astronauts on ISS\n",
      "And their names are :\n",
      "Oleg Artemyev\n",
      "Denis Matveev\n",
      "Sergey Korsakov\n",
      "Kjell Lindgren\n",
      "Bob Hines\n",
      "Samantha Cristoforetti\n",
      "Jessica Watkins\n",
      "Cai Xuzhe\n",
      "Chen Dong\n",
      "Liu Yang\n"
     ]
    }
   ],
   "source": [
    "astronauts = data.get('people')\n",
    "print(\"There are {} astronauts on ISS\".format(len(astronauts)))\n",
    "print(\"And their names are :\")\n",
    "for astronaut in astronauts:\n",
    "    print(astronaut.get('name'))"
   ]
  },
  {
   "cell_type": "markdown",
   "metadata": {},
   "source": [
    "Hope the warmup was helpful. Good luck with your next lab!\n"
   ]
  },
  {
   "cell_type": "markdown",
   "metadata": {},
   "source": [
    "## Lab: Collect Jobs Data using Jobs API\n"
   ]
  },
  {
   "cell_type": "markdown",
   "metadata": {},
   "source": [
    "### Objective: Determine the number of jobs currently open for various technologies  and for various locations\n"
   ]
  },
  {
   "cell_type": "markdown",
   "metadata": {},
   "source": [
    "Collect the number of job postings for the following locations using the API:\n",
    "\n",
    "*   Los Angeles\n",
    "*   New York\n",
    "*   San Francisco\n",
    "*   Washington DC\n",
    "*   Seattle\n",
    "*   Austin\n",
    "*   Detroit\n"
   ]
  },
  {
   "cell_type": "code",
   "execution_count": 12,
   "metadata": {},
   "outputs": [],
   "source": [
    "#Import required libraries\n",
    "import requests\n",
    "import pandas as pd\n",
    "import json"
   ]
  },
  {
   "cell_type": "code",
   "execution_count": 13,
   "metadata": {},
   "outputs": [],
   "source": [
    "baseurl = \"https://cf-courses-data.s3.us.cloud-object-storage.appdomain.cloud/IBM-DA0321EN-SkillsNetwork/labs/module%201/datasets/githubposting.json\""
   ]
  },
  {
   "cell_type": "code",
   "execution_count": 14,
   "metadata": {},
   "outputs": [],
   "source": [
    "response=requests.get(baseurl)"
   ]
  },
  {
   "cell_type": "code",
   "execution_count": 15,
   "metadata": {},
   "outputs": [
    {
     "data": {
      "text/plain": [
       "{'technology': {'0': 'java',\n",
       "  '1': 'C',\n",
       "  '2': 'C#',\n",
       "  '3': 'C++',\n",
       "  '4': 'Java',\n",
       "  '5': 'JavaScript',\n",
       "  '6': 'Python',\n",
       "  '7': 'Scala',\n",
       "  '8': 'Oracle',\n",
       "  '9': 'SQL Server',\n",
       "  '10': 'MySQL Server',\n",
       "  '11': 'PostgreSQL',\n",
       "  '12': 'MongoDB',\n",
       "  '13': 'java',\n",
       "  '14': 'C',\n",
       "  '15': 'C#',\n",
       "  '16': 'C++',\n",
       "  '17': 'Java',\n",
       "  '18': 'JavaScript',\n",
       "  '19': 'Python',\n",
       "  '20': 'Scala',\n",
       "  '21': 'Oracle',\n",
       "  '22': 'SQL Server',\n",
       "  '23': 'MySQL Server',\n",
       "  '24': 'PostgreSQL',\n",
       "  '25': 'MongoDB',\n",
       "  '26': 'C',\n",
       "  '27': 'MySQL Server',\n",
       "  '28': 'SQL Server',\n",
       "  '29': 'PostgreSQL',\n",
       "  '30': 'Java',\n",
       "  '31': 'PostgreSQL',\n",
       "  '32': 'Java',\n",
       "  '33': 'C',\n",
       "  '34': 'MongoDB',\n",
       "  '35': 'Oracle',\n",
       "  '36': 'PostgreSQL',\n",
       "  '37': 'MongoDB',\n",
       "  '38': 'MySQL Server',\n",
       "  '39': 'Java',\n",
       "  '40': 'JavaScript',\n",
       "  '41': 'Python',\n",
       "  '42': 'C',\n",
       "  '43': 'MongoDB',\n",
       "  '44': 'MySQL Server',\n",
       "  '45': 'PostgreSQL',\n",
       "  '46': 'Oracle',\n",
       "  '47': 'Java',\n",
       "  '48': 'JavaScript',\n",
       "  '49': 'Java',\n",
       "  '50': 'Java',\n",
       "  '51': 'MySQL Server',\n",
       "  '52': 'C++',\n",
       "  '53': 'JavaScript',\n",
       "  '54': 'MySQL Server',\n",
       "  '55': 'PostgreSQL',\n",
       "  '56': 'PostgreSQL',\n",
       "  '57': 'Java',\n",
       "  '58': 'Java',\n",
       "  '59': 'C#',\n",
       "  '60': 'Python',\n",
       "  '61': 'SQL Server',\n",
       "  '62': 'MySQL Server',\n",
       "  '63': 'Java',\n",
       "  '64': 'MySQL Server',\n",
       "  '65': 'PostgreSQL',\n",
       "  '66': 'Java',\n",
       "  '67': 'C#',\n",
       "  '68': 'PostgreSQL',\n",
       "  '69': 'Oracle',\n",
       "  '70': 'C#',\n",
       "  '71': 'C#',\n",
       "  '72': 'PostgreSQL',\n",
       "  '73': 'Java',\n",
       "  '74': 'JavaScript',\n",
       "  '75': 'Java',\n",
       "  '76': 'Oracle',\n",
       "  '77': 'MySQL Server',\n",
       "  '78': 'MySQL Server',\n",
       "  '79': 'MySQL Server',\n",
       "  '80': 'Java',\n",
       "  '81': 'Java',\n",
       "  '82': 'Oracle',\n",
       "  '83': 'JavaScript',\n",
       "  '84': 'PostgreSQL',\n",
       "  '85': 'MongoDB',\n",
       "  '86': 'Java',\n",
       "  '87': 'MongoDB',\n",
       "  '88': 'JavaScript',\n",
       "  '89': 'C++',\n",
       "  '90': 'Oracle',\n",
       "  '91': 'MongoDB',\n",
       "  '92': 'SQL Server',\n",
       "  '93': 'C++',\n",
       "  '94': 'Oracle',\n",
       "  '95': 'JavaScript',\n",
       "  '96': 'Java',\n",
       "  '97': 'java',\n",
       "  '98': 'MongoDB',\n",
       "  '99': 'C#',\n",
       "  '100': 'MySQL Server',\n",
       "  '101': 'PostgreSQL',\n",
       "  '102': 'MongoDB',\n",
       "  '103': 'java',\n",
       "  '104': 'Python',\n",
       "  '105': 'Java',\n",
       "  '106': 'MongoDB',\n",
       "  '107': 'MongoDB',\n",
       "  '108': 'C++',\n",
       "  '109': 'MySQL Server',\n",
       "  '110': 'Java',\n",
       "  '111': 'PostgreSQL',\n",
       "  '112': 'Python',\n",
       "  '113': 'java',\n",
       "  '114': 'SQL Server',\n",
       "  '115': 'Java',\n",
       "  '116': 'Python',\n",
       "  '117': 'JavaScript',\n",
       "  '118': 'PostgreSQL',\n",
       "  '119': 'PostgreSQL',\n",
       "  '120': 'C++',\n",
       "  '121': 'MySQL Server',\n",
       "  '122': 'MongoDB',\n",
       "  '123': 'C#',\n",
       "  '124': 'PostgreSQL',\n",
       "  '125': 'PostgreSQL',\n",
       "  '126': 'C++',\n",
       "  '127': 'Oracle',\n",
       "  '128': 'Python',\n",
       "  '129': 'JavaScript',\n",
       "  '130': 'MongoDB',\n",
       "  '131': 'PostgreSQL',\n",
       "  '132': 'MySQL Server',\n",
       "  '133': 'C#',\n",
       "  '134': 'MySQL Server',\n",
       "  '135': 'PostgreSQL',\n",
       "  '136': 'PostgreSQL',\n",
       "  '137': 'MySQL Server',\n",
       "  '138': 'Scala',\n",
       "  '139': 'C++',\n",
       "  '140': 'MongoDB',\n",
       "  '141': 'C++',\n",
       "  '142': 'MongoDB',\n",
       "  '143': 'Java',\n",
       "  '144': 'Java',\n",
       "  '145': 'java',\n",
       "  '146': 'SQL Server',\n",
       "  '147': 'Python',\n",
       "  '148': 'java',\n",
       "  '149': 'SQL Server',\n",
       "  '150': 'JavaScript',\n",
       "  '151': 'JavaScript',\n",
       "  '152': 'C#',\n",
       "  '153': 'JavaScript',\n",
       "  '154': 'Java',\n",
       "  '155': 'PostgreSQL',\n",
       "  '156': 'PostgreSQL',\n",
       "  '157': 'Java',\n",
       "  '158': 'C++',\n",
       "  '159': 'JavaScript',\n",
       "  '160': 'Java',\n",
       "  '161': 'Oracle',\n",
       "  '162': 'Python',\n",
       "  '163': 'Oracle',\n",
       "  '164': 'java',\n",
       "  '165': 'C#',\n",
       "  '166': 'Java',\n",
       "  '167': 'PostgreSQL',\n",
       "  '168': 'PostgreSQL',\n",
       "  '169': 'Python',\n",
       "  '170': 'Java',\n",
       "  '171': 'MySQL Server',\n",
       "  '172': 'C#',\n",
       "  '173': 'Python',\n",
       "  '174': 'Python',\n",
       "  '175': 'SQL Server',\n",
       "  '176': 'MongoDB',\n",
       "  '177': 'Java',\n",
       "  '178': 'C#',\n",
       "  '179': 'MongoDB',\n",
       "  '180': 'Oracle',\n",
       "  '181': 'Python',\n",
       "  '182': 'Scala',\n",
       "  '183': 'PostgreSQL',\n",
       "  '184': 'Scala',\n",
       "  '185': 'C#',\n",
       "  '186': 'Java',\n",
       "  '187': 'Java',\n",
       "  '188': 'C++',\n",
       "  '189': 'Python',\n",
       "  '190': 'MongoDB',\n",
       "  '191': 'Java',\n",
       "  '192': 'MongoDB',\n",
       "  '193': 'C++',\n",
       "  '194': 'PostgreSQL',\n",
       "  '195': 'Java',\n",
       "  '196': 'C#',\n",
       "  '197': 'MySQL Server',\n",
       "  '198': 'Oracle',\n",
       "  '199': 'Java',\n",
       "  '200': 'Java',\n",
       "  '201': 'MongoDB',\n",
       "  '202': 'Python',\n",
       "  '203': 'SQL Server',\n",
       "  '204': 'C',\n",
       "  '205': 'Oracle',\n",
       "  '206': 'Python',\n",
       "  '207': 'Python',\n",
       "  '208': 'MongoDB',\n",
       "  '209': 'Scala',\n",
       "  '210': 'PostgreSQL',\n",
       "  '211': 'Oracle',\n",
       "  '212': 'Java',\n",
       "  '213': 'MongoDB',\n",
       "  '214': 'C',\n",
       "  '215': 'MongoDB',\n",
       "  '216': 'Oracle',\n",
       "  '217': 'Python',\n",
       "  '218': 'Java',\n",
       "  '219': 'MySQL Server',\n",
       "  '220': 'JavaScript',\n",
       "  '221': 'PostgreSQL',\n",
       "  '222': 'Oracle',\n",
       "  '223': 'Python',\n",
       "  '224': 'Python',\n",
       "  '225': 'JavaScript',\n",
       "  '226': 'MongoDB',\n",
       "  '227': 'Java',\n",
       "  '228': 'MySQL Server',\n",
       "  '229': 'JavaScript',\n",
       "  '230': 'Java',\n",
       "  '231': 'Oracle',\n",
       "  '232': 'JavaScript',\n",
       "  '233': 'PostgreSQL',\n",
       "  '234': 'MySQL Server',\n",
       "  '235': 'MySQL Server',\n",
       "  '236': 'Oracle',\n",
       "  '237': 'Scala',\n",
       "  '238': 'Java',\n",
       "  '239': 'C#',\n",
       "  '240': 'Oracle',\n",
       "  '241': 'Oracle',\n",
       "  '242': 'java',\n",
       "  '243': 'PostgreSQL',\n",
       "  '244': 'MongoDB',\n",
       "  '245': 'PostgreSQL',\n",
       "  '246': 'MongoDB',\n",
       "  '247': 'Scala',\n",
       "  '248': 'MySQL Server',\n",
       "  '249': 'Oracle',\n",
       "  '250': 'Java',\n",
       "  '251': 'C#',\n",
       "  '252': 'PostgreSQL',\n",
       "  '253': 'MongoDB',\n",
       "  '254': 'Scala',\n",
       "  '255': 'JavaScript'},\n",
       " 'number of job posting': {'0': '1',\n",
       "  '1': '10',\n",
       "  '2': '1',\n",
       "  '3': '1',\n",
       "  '4': '2',\n",
       "  '5': '4',\n",
       "  '6': '1',\n",
       "  '7': '5',\n",
       "  '8': '0',\n",
       "  '9': '1',\n",
       "  '10': '0',\n",
       "  '11': '1',\n",
       "  '12': '0',\n",
       "  '13': '1',\n",
       "  '14': '20',\n",
       "  '15': '2',\n",
       "  '16': '3',\n",
       "  '17': '2',\n",
       "  '18': '3',\n",
       "  '19': '2',\n",
       "  '20': '7',\n",
       "  '21': '0',\n",
       "  '22': '1',\n",
       "  '23': '0',\n",
       "  '24': '1',\n",
       "  '25': '0',\n",
       "  '26': '26',\n",
       "  '27': '0',\n",
       "  '28': '1',\n",
       "  '29': '0',\n",
       "  '30': '2',\n",
       "  '31': '0',\n",
       "  '32': '2',\n",
       "  '33': '15',\n",
       "  '34': '0',\n",
       "  '35': '1',\n",
       "  '36': '0',\n",
       "  '37': '1',\n",
       "  '38': '0',\n",
       "  '39': '1',\n",
       "  '40': '2',\n",
       "  '41': '5',\n",
       "  '42': '40',\n",
       "  '43': '1',\n",
       "  '44': '0',\n",
       "  '45': '0',\n",
       "  '46': '1',\n",
       "  '47': '6',\n",
       "  '48': '4',\n",
       "  '49': '8',\n",
       "  '50': '1',\n",
       "  '51': '0',\n",
       "  '52': '2',\n",
       "  '53': '4',\n",
       "  '54': '0',\n",
       "  '55': '1',\n",
       "  '56': '1',\n",
       "  '57': '2',\n",
       "  '58': '3',\n",
       "  '59': '1',\n",
       "  '60': '2',\n",
       "  '61': '2',\n",
       "  '62': '1',\n",
       "  '63': '1',\n",
       "  '64': '1',\n",
       "  '65': '0',\n",
       "  '66': '1',\n",
       "  '67': '0',\n",
       "  '68': '0',\n",
       "  '69': '1',\n",
       "  '70': '1',\n",
       "  '71': '0',\n",
       "  '72': '0',\n",
       "  '73': '2',\n",
       "  '74': '2',\n",
       "  '75': '1',\n",
       "  '76': '0',\n",
       "  '77': '1',\n",
       "  '78': '0',\n",
       "  '79': '0',\n",
       "  '80': '2',\n",
       "  '81': '3',\n",
       "  '82': '0',\n",
       "  '83': '5',\n",
       "  '84': '0',\n",
       "  '85': '2',\n",
       "  '86': '2',\n",
       "  '87': '2',\n",
       "  '88': '3',\n",
       "  '89': '2',\n",
       "  '90': '0',\n",
       "  '91': '1',\n",
       "  '92': '1',\n",
       "  '93': '2',\n",
       "  '94': '0',\n",
       "  '95': '2',\n",
       "  '96': '2',\n",
       "  '97': '1',\n",
       "  '98': '1',\n",
       "  '99': '0',\n",
       "  '100': '0',\n",
       "  '101': '0',\n",
       "  '102': '1',\n",
       "  '103': '2',\n",
       "  '104': '7',\n",
       "  '105': '1',\n",
       "  '106': '1',\n",
       "  '107': '0',\n",
       "  '108': '2',\n",
       "  '109': '1',\n",
       "  '110': '2',\n",
       "  '111': '0',\n",
       "  '112': '2',\n",
       "  '113': '1',\n",
       "  '114': '2',\n",
       "  '115': '2',\n",
       "  '116': '2',\n",
       "  '117': '3',\n",
       "  '118': '0',\n",
       "  '119': '1',\n",
       "  '120': '2',\n",
       "  '121': '0',\n",
       "  '122': '1',\n",
       "  '123': '1',\n",
       "  '124': '1',\n",
       "  '125': '1',\n",
       "  '126': '2',\n",
       "  '127': '0',\n",
       "  '128': '1',\n",
       "  '129': '3',\n",
       "  '130': '0',\n",
       "  '131': '0',\n",
       "  '132': '0',\n",
       "  '133': '1',\n",
       "  '134': '1',\n",
       "  '135': '0',\n",
       "  '136': '0',\n",
       "  '137': '0',\n",
       "  '138': '5',\n",
       "  '139': '1',\n",
       "  '140': '0',\n",
       "  '141': '2',\n",
       "  '142': '0',\n",
       "  '143': '1',\n",
       "  '144': '2',\n",
       "  '145': '1',\n",
       "  '146': '4',\n",
       "  '147': '1',\n",
       "  '148': '1',\n",
       "  '149': '2',\n",
       "  '150': '5',\n",
       "  '151': '2',\n",
       "  '152': '1',\n",
       "  '153': '3',\n",
       "  '154': '1',\n",
       "  '155': '1',\n",
       "  '156': '1',\n",
       "  '157': '2',\n",
       "  '158': '1',\n",
       "  '159': '3',\n",
       "  '160': '3',\n",
       "  '161': '0',\n",
       "  '162': '2',\n",
       "  '163': '0',\n",
       "  '164': '0',\n",
       "  '165': '1',\n",
       "  '166': '1',\n",
       "  '167': '1',\n",
       "  '168': '0',\n",
       "  '169': '3',\n",
       "  '170': '2',\n",
       "  '171': '0',\n",
       "  '172': '1',\n",
       "  '173': '3',\n",
       "  '174': '1',\n",
       "  '175': '1',\n",
       "  '176': '1',\n",
       "  '177': '2',\n",
       "  '178': '1',\n",
       "  '179': '1',\n",
       "  '180': '1',\n",
       "  '181': '3',\n",
       "  '182': '6',\n",
       "  '183': '0',\n",
       "  '184': '4',\n",
       "  '185': '0',\n",
       "  '186': '1',\n",
       "  '187': '2',\n",
       "  '188': '2',\n",
       "  '189': '2',\n",
       "  '190': '1',\n",
       "  '191': '1',\n",
       "  '192': '0',\n",
       "  '193': '2',\n",
       "  '194': '1',\n",
       "  '195': '1',\n",
       "  '196': '1',\n",
       "  '197': '0',\n",
       "  '198': '1',\n",
       "  '199': '1',\n",
       "  '200': '1',\n",
       "  '201': '0',\n",
       "  '202': '2',\n",
       "  '203': '1',\n",
       "  '204': '20',\n",
       "  '205': '0',\n",
       "  '206': '1',\n",
       "  '207': '4',\n",
       "  '208': '0',\n",
       "  '209': '7',\n",
       "  '210': '1',\n",
       "  '211': '0',\n",
       "  '212': '1',\n",
       "  '213': '0',\n",
       "  '214': '53',\n",
       "  '215': '0',\n",
       "  '216': '0',\n",
       "  '217': '3',\n",
       "  '218': '6',\n",
       "  '219': '0',\n",
       "  '220': '6',\n",
       "  '221': '1',\n",
       "  '222': '0',\n",
       "  '223': '2',\n",
       "  '224': '2',\n",
       "  '225': '5',\n",
       "  '226': '1',\n",
       "  '227': '3',\n",
       "  '228': '1',\n",
       "  '229': '1',\n",
       "  '230': '1',\n",
       "  '231': '1',\n",
       "  '232': '2',\n",
       "  '233': '1',\n",
       "  '234': '0',\n",
       "  '235': '0',\n",
       "  '236': '1',\n",
       "  '237': '3',\n",
       "  '238': '2',\n",
       "  '239': '1',\n",
       "  '240': '1',\n",
       "  '241': '0',\n",
       "  '242': '1',\n",
       "  '243': '1',\n",
       "  '244': '1',\n",
       "  '245': '1',\n",
       "  '246': '1',\n",
       "  '247': '8',\n",
       "  '248': '1',\n",
       "  '249': '0',\n",
       "  '250': '1',\n",
       "  '251': '1',\n",
       "  '252': '1',\n",
       "  '253': '1',\n",
       "  '254': '2',\n",
       "  '255': '3'}}"
      ]
     },
     "execution_count": 15,
     "metadata": {},
     "output_type": "execute_result"
    }
   ],
   "source": [
    "if response.ok:             \n",
    "    data = response.json()\n",
    "data"
   ]
  },
  {
   "cell_type": "code",
   "execution_count": 16,
   "metadata": {},
   "outputs": [],
   "source": [
    "def get_number_of_jobs(technology):\n",
    "    number_of_jobs = 0\n",
    "    payload={\"description\":technology,\"page\":1}\n",
    "    r=requests.get(baseurl,params=payload)\n",
    "    if r.ok:             # if all is well() no errors, no network timeouts)\n",
    "        data = r.json()\n",
    "        while len(data) == 50:\n",
    "            payload['page'] = payload['page'] + 1\n",
    "            r=requests.get(baseurl,params=payload)\n",
    "            if response.ok:\n",
    "                data = r.json()\n",
    "                number_of_jobs += len(data)\n",
    "        else:\n",
    "            number_of_jobs += len(data)  \n",
    "            \n",
    "    return technology,number_of_jobs"
   ]
  },
  {
   "cell_type": "markdown",
   "metadata": {},
   "source": [
    "#### Write a function to get the number of jobs for the Python technology.<br>\n",
    "\n",
    "> Note: While using the lab you need to pass the **payload** information for the **params** attribute in the form of **key** **value** pairs.\n",
    "\n",
    "Refer the ungraded **rest api lab** in the course **Python for Data Science, AI & Development**  <a href=\"https://www.coursera.org/learn/python-for-applied-data-science-ai/ungradedLti/P6sW8/hands-on-lab-access-rest-apis-request-http?utm_medium=Exinfluencer&utm_source=Exinfluencer&utm_content=000026UJ&utm_term=10006555&utm_id=NA-SkillsNetwork-Channel-SkillsNetworkCoursesIBMDA0321ENSkillsNetwork21426264-2022-01-01\">link</a>\n",
    "\n",
    "##### The keys in the json are\n",
    "\n",
    "*   Job Title\n",
    "\n",
    "*   Job Experience Required\n",
    "\n",
    "*   Key Skills\n",
    "\n",
    "*   Role Category\n",
    "\n",
    "*   Location\n",
    "\n",
    "*   Functional Area\n",
    "\n",
    "*   Industry\n",
    "\n",
    "*   Role\n",
    "\n",
    "You can also view  the json file contents  from the following <a href = \"https://cf-courses-data.s3.us.cloud-object-storage.appdomain.cloud/IBM-DA0321EN-SkillsNetwork/labs/module%201/Accessing%20Data%20Using%20APIs/jobs.json?utm_medium=Exinfluencer&utm_source=Exinfluencer&utm_content=000026UJ&utm_term=10006555&utm_id=NA-SkillsNetwork-Channel-SkillsNetworkCoursesIBMDA0321ENSkillsNetwork21426264-2022-01-01\">json</a> URL.\n"
   ]
  },
  {
   "cell_type": "code",
   "execution_count": 17,
   "metadata": {},
   "outputs": [],
   "source": [
    "#api_url=\"http://127.0.0.1:5000/data\"\n",
    "#def get_number_of_jobs_T(technology):\n",
    "    \n",
    "    #your code goes here\n",
    " #   return technology,number_of_jobs"
   ]
  },
  {
   "cell_type": "markdown",
   "metadata": {},
   "source": [
    "Calling the function for Python and checking if it works.\n"
   ]
  },
  {
   "cell_type": "code",
   "execution_count": 20,
   "metadata": {},
   "outputs": [
    {
     "name": "stdout",
     "output_type": "stream",
     "text": [
      "('Python', 2)\n"
     ]
    }
   ],
   "source": [
    "print(get_number_of_jobs(\"Python\"))"
   ]
  },
  {
   "cell_type": "markdown",
   "metadata": {},
   "source": [
    "#### Write a function to find number of jobs in US for a location of your choice\n"
   ]
  },
  {
   "cell_type": "code",
   "execution_count": 11,
   "metadata": {},
   "outputs": [],
   "source": [
    "def get_number_of_jobs_L(location):\n",
    "    \n",
    "    #your coe goes here\n",
    "    return location,number_of_jobs"
   ]
  },
  {
   "cell_type": "markdown",
   "metadata": {},
   "source": [
    "Call the function for Los Angeles and check if it is working.\n"
   ]
  },
  {
   "cell_type": "code",
   "execution_count": null,
   "metadata": {},
   "outputs": [],
   "source": [
    "#your code goes here\n"
   ]
  },
  {
   "cell_type": "markdown",
   "metadata": {},
   "source": [
    "### Store the results in an excel file\n"
   ]
  },
  {
   "cell_type": "markdown",
   "metadata": {},
   "source": [
    "Call the API for all the given technologies above and write the results in an excel spreadsheet.\n"
   ]
  },
  {
   "cell_type": "markdown",
   "metadata": {},
   "source": [
    "If you do not know how create excel file using python, double click here for **hints**.\n",
    "\n",
    "<!--\n",
    "\n",
    "from openpyxl import Workbook        # import Workbook class from module openpyxl\n",
    "wb=Workbook()                        # create a workbook object\n",
    "ws=wb.active                         # use the active worksheet\n",
    "ws.append(['Country','Continent'])   # add a row with two columns 'Country' and 'Continent'\n",
    "ws.append(['Eygpt','Africa'])        # add a row with two columns 'Egypt' and 'Africa'\n",
    "ws.append(['India','Asia'])          # add another row\n",
    "ws.append(['France','Europe'])       # add another row\n",
    "wb.save(\"countries.xlsx\")            # save the workbook into a file called countries.xlsx\n",
    "\n",
    "\n",
    "-->\n"
   ]
  },
  {
   "cell_type": "markdown",
   "metadata": {},
   "source": [
    "Create a python list of all locations for which you need to find the number of jobs postings.\n"
   ]
  },
  {
   "cell_type": "code",
   "execution_count": 21,
   "metadata": {},
   "outputs": [
    {
     "data": {
      "text/plain": [
       "['C',\n",
       " 'C#',\n",
       " 'C++',\n",
       " 'Java',\n",
       " 'JavaScript',\n",
       " 'Python',\n",
       " 'Scala',\n",
       " 'Oracle',\n",
       " 'SQL Server',\n",
       " 'MySQL Server',\n",
       " 'PostgreSQL',\n",
       " 'MongoDB']"
      ]
     },
     "execution_count": 21,
     "metadata": {},
     "output_type": "execute_result"
    }
   ],
   "source": [
    "#your code goes here\n",
    "tech_list=['C','C#','C++','Java','JavaScript','Python','Scala','Oracle','SQL Server','MySQL Server','PostgreSQL','MongoDB']\n",
    "tech_list"
   ]
  },
  {
   "cell_type": "markdown",
   "metadata": {},
   "source": [
    "Import libraries required to create excel spreadsheet\n"
   ]
  },
  {
   "cell_type": "code",
   "execution_count": 22,
   "metadata": {},
   "outputs": [
    {
     "name": "stdout",
     "output_type": "stream",
     "text": [
      "Requirement already satisfied: openpyxl in c:\\users\\king3\\anaconda3\\lib\\site-packages (3.0.9)\n",
      "Requirement already satisfied: et-xmlfile in c:\\users\\king3\\anaconda3\\lib\\site-packages (from openpyxl) (1.1.0)\n"
     ]
    }
   ],
   "source": [
    "# your code goes here\n",
    "!pip install openpyxl"
   ]
  },
  {
   "cell_type": "markdown",
   "metadata": {},
   "source": [
    "Create a workbook and select the active worksheet\n"
   ]
  },
  {
   "cell_type": "code",
   "execution_count": 23,
   "metadata": {},
   "outputs": [],
   "source": [
    "# your code goes here\n",
    "from openpyxl import Workbook"
   ]
  },
  {
   "cell_type": "markdown",
   "metadata": {},
   "source": [
    "Find the number of jobs postings for each of the location in the above list.\n",
    "Write the Location name and the number of jobs postings into the excel spreadsheet.\n"
   ]
  },
  {
   "cell_type": "code",
   "execution_count": 24,
   "metadata": {},
   "outputs": [],
   "source": [
    "#your code goes here\n",
    "wb=Workbook()                       \n",
    "ws=wb.active   "
   ]
  },
  {
   "cell_type": "markdown",
   "metadata": {},
   "source": [
    "Save into an excel spreadsheet named 'job-postings.xlsx'.\n"
   ]
  },
  {
   "cell_type": "code",
   "execution_count": 25,
   "metadata": {},
   "outputs": [],
   "source": [
    "#your code goes here\n",
    "ws.append(['Technology','Number_of_Jobs'])\n",
    "\n",
    "for i in tech_list:\n",
    "    ws.append(get_number_of_jobs(i))"
   ]
  },
  {
   "cell_type": "markdown",
   "metadata": {},
   "source": [
    "#### In the similar way, you can try for below given technologies and results  can be stored in an excel sheet.\n"
   ]
  },
  {
   "cell_type": "markdown",
   "metadata": {},
   "source": [
    "Collect the number of job postings for the following languages using the API:\n",
    "\n",
    "*   C\n",
    "*   C#\n",
    "*   C++\n",
    "*   Java\n",
    "*   JavaScript\n",
    "*   Python\n",
    "*   Scala\n",
    "*   Oracle\n",
    "*   SQL Server\n",
    "*   MySQL Server\n",
    "*   PostgreSQL\n",
    "*   MongoDB\n"
   ]
  },
  {
   "cell_type": "code",
   "execution_count": 26,
   "metadata": {},
   "outputs": [],
   "source": [
    "# your code goes here\n",
    "wb.save(\"github-job-postings.xlsx\")"
   ]
  },
  {
   "cell_type": "code",
   "execution_count": 27,
   "metadata": {},
   "outputs": [
    {
     "ename": "XLRDError",
     "evalue": "Excel xlsx file; not supported",
     "output_type": "error",
     "traceback": [
      "\u001b[1;31m---------------------------------------------------------------------------\u001b[0m",
      "\u001b[1;31mXLRDError\u001b[0m                                 Traceback (most recent call last)",
      "Input \u001b[1;32mIn [27]\u001b[0m, in \u001b[0;36m<cell line: 1>\u001b[1;34m()\u001b[0m\n\u001b[1;32m----> 1\u001b[0m job_data \u001b[38;5;241m=\u001b[39m \u001b[43mpd\u001b[49m\u001b[38;5;241;43m.\u001b[39;49m\u001b[43mread_excel\u001b[49m\u001b[43m(\u001b[49m\u001b[38;5;124;43m\"\u001b[39;49m\u001b[38;5;124;43mgithub-job-postings.xlsx\u001b[39;49m\u001b[38;5;124;43m\"\u001b[39;49m\u001b[43m)\u001b[49m\n\u001b[0;32m      2\u001b[0m job_data\n",
      "File \u001b[1;32m~\\anaconda3\\lib\\site-packages\\pandas\\util\\_decorators.py:296\u001b[0m, in \u001b[0;36mdeprecate_nonkeyword_arguments.<locals>.decorate.<locals>.wrapper\u001b[1;34m(*args, **kwargs)\u001b[0m\n\u001b[0;32m    291\u001b[0m     msg \u001b[38;5;241m=\u001b[39m (\n\u001b[0;32m    292\u001b[0m         \u001b[38;5;124mf\u001b[39m\u001b[38;5;124m\"\u001b[39m\u001b[38;5;124mStarting with Pandas version \u001b[39m\u001b[38;5;132;01m{\u001b[39;00mversion\u001b[38;5;132;01m}\u001b[39;00m\u001b[38;5;124m all arguments of \u001b[39m\u001b[38;5;124m\"\u001b[39m\n\u001b[0;32m    293\u001b[0m         \u001b[38;5;124mf\u001b[39m\u001b[38;5;124m\"\u001b[39m\u001b[38;5;132;01m{\u001b[39;00mfunc\u001b[38;5;241m.\u001b[39m\u001b[38;5;18m__name__\u001b[39m\u001b[38;5;132;01m}\u001b[39;00m\u001b[38;5;132;01m{\u001b[39;00marguments\u001b[38;5;132;01m}\u001b[39;00m\u001b[38;5;124m will be keyword-only\u001b[39m\u001b[38;5;124m\"\u001b[39m\n\u001b[0;32m    294\u001b[0m     )\n\u001b[0;32m    295\u001b[0m     warnings\u001b[38;5;241m.\u001b[39mwarn(msg, \u001b[38;5;167;01mFutureWarning\u001b[39;00m, stacklevel\u001b[38;5;241m=\u001b[39mstacklevel)\n\u001b[1;32m--> 296\u001b[0m \u001b[38;5;28;01mreturn\u001b[39;00m func(\u001b[38;5;241m*\u001b[39margs, \u001b[38;5;241m*\u001b[39m\u001b[38;5;241m*\u001b[39mkwargs)\n",
      "File \u001b[1;32m~\\anaconda3\\lib\\site-packages\\pandas\\io\\excel\\_base.py:304\u001b[0m, in \u001b[0;36mread_excel\u001b[1;34m(io, sheet_name, header, names, index_col, usecols, squeeze, dtype, engine, converters, true_values, false_values, skiprows, nrows, na_values, keep_default_na, na_filter, verbose, parse_dates, date_parser, thousands, comment, skipfooter, convert_float, mangle_dupe_cols)\u001b[0m\n\u001b[0;32m    273\u001b[0m \u001b[38;5;129m@deprecate_nonkeyword_arguments\u001b[39m(allowed_args\u001b[38;5;241m=\u001b[39m\u001b[38;5;241m2\u001b[39m, version\u001b[38;5;241m=\u001b[39m\u001b[38;5;124m\"\u001b[39m\u001b[38;5;124m2.0\u001b[39m\u001b[38;5;124m\"\u001b[39m)\n\u001b[0;32m    274\u001b[0m \u001b[38;5;129m@Appender\u001b[39m(_read_excel_doc)\n\u001b[0;32m    275\u001b[0m \u001b[38;5;28;01mdef\u001b[39;00m \u001b[38;5;21mread_excel\u001b[39m(\n\u001b[1;32m   (...)\u001b[0m\n\u001b[0;32m    300\u001b[0m     mangle_dupe_cols\u001b[38;5;241m=\u001b[39m\u001b[38;5;28;01mTrue\u001b[39;00m,\n\u001b[0;32m    301\u001b[0m ):\n\u001b[0;32m    303\u001b[0m     \u001b[38;5;28;01mif\u001b[39;00m \u001b[38;5;129;01mnot\u001b[39;00m \u001b[38;5;28misinstance\u001b[39m(io, ExcelFile):\n\u001b[1;32m--> 304\u001b[0m         io \u001b[38;5;241m=\u001b[39m \u001b[43mExcelFile\u001b[49m\u001b[43m(\u001b[49m\u001b[43mio\u001b[49m\u001b[43m,\u001b[49m\u001b[43m \u001b[49m\u001b[43mengine\u001b[49m\u001b[38;5;241;43m=\u001b[39;49m\u001b[43mengine\u001b[49m\u001b[43m)\u001b[49m\n\u001b[0;32m    305\u001b[0m     \u001b[38;5;28;01melif\u001b[39;00m engine \u001b[38;5;129;01mand\u001b[39;00m engine \u001b[38;5;241m!=\u001b[39m io\u001b[38;5;241m.\u001b[39mengine:\n\u001b[0;32m    306\u001b[0m         \u001b[38;5;28;01mraise\u001b[39;00m \u001b[38;5;167;01mValueError\u001b[39;00m(\n\u001b[0;32m    307\u001b[0m             \u001b[38;5;124m\"\u001b[39m\u001b[38;5;124mEngine should not be specified when passing \u001b[39m\u001b[38;5;124m\"\u001b[39m\n\u001b[0;32m    308\u001b[0m             \u001b[38;5;124m\"\u001b[39m\u001b[38;5;124man ExcelFile - ExcelFile already has the engine set\u001b[39m\u001b[38;5;124m\"\u001b[39m\n\u001b[0;32m    309\u001b[0m         )\n",
      "File \u001b[1;32m~\\anaconda3\\lib\\site-packages\\pandas\\io\\excel\\_base.py:867\u001b[0m, in \u001b[0;36mExcelFile.__init__\u001b[1;34m(self, path_or_buffer, engine)\u001b[0m\n\u001b[0;32m    864\u001b[0m \u001b[38;5;66;03m# Always a string\u001b[39;00m\n\u001b[0;32m    865\u001b[0m \u001b[38;5;28mself\u001b[39m\u001b[38;5;241m.\u001b[39m_io \u001b[38;5;241m=\u001b[39m stringify_path(path_or_buffer)\n\u001b[1;32m--> 867\u001b[0m \u001b[38;5;28mself\u001b[39m\u001b[38;5;241m.\u001b[39m_reader \u001b[38;5;241m=\u001b[39m \u001b[38;5;28;43mself\u001b[39;49m\u001b[38;5;241;43m.\u001b[39;49m\u001b[43m_engines\u001b[49m\u001b[43m[\u001b[49m\u001b[43mengine\u001b[49m\u001b[43m]\u001b[49m\u001b[43m(\u001b[49m\u001b[38;5;28;43mself\u001b[39;49m\u001b[38;5;241;43m.\u001b[39;49m\u001b[43m_io\u001b[49m\u001b[43m)\u001b[49m\n",
      "File \u001b[1;32m~\\anaconda3\\lib\\site-packages\\pandas\\io\\excel\\_xlrd.py:22\u001b[0m, in \u001b[0;36m_XlrdReader.__init__\u001b[1;34m(self, filepath_or_buffer)\u001b[0m\n\u001b[0;32m     20\u001b[0m err_msg \u001b[38;5;241m=\u001b[39m \u001b[38;5;124m\"\u001b[39m\u001b[38;5;124mInstall xlrd >= 1.0.0 for Excel support\u001b[39m\u001b[38;5;124m\"\u001b[39m\n\u001b[0;32m     21\u001b[0m import_optional_dependency(\u001b[38;5;124m\"\u001b[39m\u001b[38;5;124mxlrd\u001b[39m\u001b[38;5;124m\"\u001b[39m, extra\u001b[38;5;241m=\u001b[39merr_msg)\n\u001b[1;32m---> 22\u001b[0m \u001b[38;5;28;43msuper\u001b[39;49m\u001b[43m(\u001b[49m\u001b[43m)\u001b[49m\u001b[38;5;241;43m.\u001b[39;49m\u001b[38;5;21;43m__init__\u001b[39;49m\u001b[43m(\u001b[49m\u001b[43mfilepath_or_buffer\u001b[49m\u001b[43m)\u001b[49m\n",
      "File \u001b[1;32m~\\anaconda3\\lib\\site-packages\\pandas\\io\\excel\\_base.py:353\u001b[0m, in \u001b[0;36m_BaseExcelReader.__init__\u001b[1;34m(self, filepath_or_buffer)\u001b[0m\n\u001b[0;32m    351\u001b[0m     \u001b[38;5;28mself\u001b[39m\u001b[38;5;241m.\u001b[39mbook \u001b[38;5;241m=\u001b[39m \u001b[38;5;28mself\u001b[39m\u001b[38;5;241m.\u001b[39mload_workbook(filepath_or_buffer)\n\u001b[0;32m    352\u001b[0m \u001b[38;5;28;01melif\u001b[39;00m \u001b[38;5;28misinstance\u001b[39m(filepath_or_buffer, \u001b[38;5;28mstr\u001b[39m):\n\u001b[1;32m--> 353\u001b[0m     \u001b[38;5;28mself\u001b[39m\u001b[38;5;241m.\u001b[39mbook \u001b[38;5;241m=\u001b[39m \u001b[38;5;28;43mself\u001b[39;49m\u001b[38;5;241;43m.\u001b[39;49m\u001b[43mload_workbook\u001b[49m\u001b[43m(\u001b[49m\u001b[43mfilepath_or_buffer\u001b[49m\u001b[43m)\u001b[49m\n\u001b[0;32m    354\u001b[0m \u001b[38;5;28;01melif\u001b[39;00m \u001b[38;5;28misinstance\u001b[39m(filepath_or_buffer, \u001b[38;5;28mbytes\u001b[39m):\n\u001b[0;32m    355\u001b[0m     \u001b[38;5;28mself\u001b[39m\u001b[38;5;241m.\u001b[39mbook \u001b[38;5;241m=\u001b[39m \u001b[38;5;28mself\u001b[39m\u001b[38;5;241m.\u001b[39mload_workbook(BytesIO(filepath_or_buffer))\n",
      "File \u001b[1;32m~\\anaconda3\\lib\\site-packages\\pandas\\io\\excel\\_xlrd.py:37\u001b[0m, in \u001b[0;36m_XlrdReader.load_workbook\u001b[1;34m(self, filepath_or_buffer)\u001b[0m\n\u001b[0;32m     35\u001b[0m     \u001b[38;5;28;01mreturn\u001b[39;00m open_workbook(file_contents\u001b[38;5;241m=\u001b[39mdata)\n\u001b[0;32m     36\u001b[0m \u001b[38;5;28;01melse\u001b[39;00m:\n\u001b[1;32m---> 37\u001b[0m     \u001b[38;5;28;01mreturn\u001b[39;00m \u001b[43mopen_workbook\u001b[49m\u001b[43m(\u001b[49m\u001b[43mfilepath_or_buffer\u001b[49m\u001b[43m)\u001b[49m\n",
      "File \u001b[1;32m~\\anaconda3\\lib\\site-packages\\xlrd\\__init__.py:170\u001b[0m, in \u001b[0;36mopen_workbook\u001b[1;34m(filename, logfile, verbosity, use_mmap, file_contents, encoding_override, formatting_info, on_demand, ragged_rows, ignore_workbook_corruption)\u001b[0m\n\u001b[0;32m    167\u001b[0m \u001b[38;5;66;03m# We have to let unknown file formats pass through here, as some ancient\u001b[39;00m\n\u001b[0;32m    168\u001b[0m \u001b[38;5;66;03m# files that xlrd can parse don't start with the expected signature.\u001b[39;00m\n\u001b[0;32m    169\u001b[0m \u001b[38;5;28;01mif\u001b[39;00m file_format \u001b[38;5;129;01mand\u001b[39;00m file_format \u001b[38;5;241m!=\u001b[39m \u001b[38;5;124m'\u001b[39m\u001b[38;5;124mxls\u001b[39m\u001b[38;5;124m'\u001b[39m:\n\u001b[1;32m--> 170\u001b[0m     \u001b[38;5;28;01mraise\u001b[39;00m XLRDError(FILE_FORMAT_DESCRIPTIONS[file_format]\u001b[38;5;241m+\u001b[39m\u001b[38;5;124m'\u001b[39m\u001b[38;5;124m; not supported\u001b[39m\u001b[38;5;124m'\u001b[39m)\n\u001b[0;32m    172\u001b[0m bk \u001b[38;5;241m=\u001b[39m open_workbook_xls(\n\u001b[0;32m    173\u001b[0m     filename\u001b[38;5;241m=\u001b[39mfilename,\n\u001b[0;32m    174\u001b[0m     logfile\u001b[38;5;241m=\u001b[39mlogfile,\n\u001b[1;32m   (...)\u001b[0m\n\u001b[0;32m    182\u001b[0m     ignore_workbook_corruption\u001b[38;5;241m=\u001b[39mignore_workbook_corruption,\n\u001b[0;32m    183\u001b[0m )\n\u001b[0;32m    185\u001b[0m \u001b[38;5;28;01mreturn\u001b[39;00m bk\n",
      "\u001b[1;31mXLRDError\u001b[0m: Excel xlsx file; not supported"
     ]
    }
   ],
   "source": [
    "job_data = pd.read_excel(\"github-job-postings.xlsx\")\n",
    "job_data"
   ]
  },
  {
   "cell_type": "markdown",
   "metadata": {},
   "source": [
    "## Author\n"
   ]
  },
  {
   "cell_type": "markdown",
   "metadata": {},
   "source": [
    "Ayushi Jain\n"
   ]
  },
  {
   "cell_type": "markdown",
   "metadata": {},
   "source": [
    "### Other Contributors\n"
   ]
  },
  {
   "cell_type": "markdown",
   "metadata": {},
   "source": [
    "Rav Ahuja\n",
    "\n",
    "Lakshmi Holla\n",
    "\n",
    "Malika\n"
   ]
  },
  {
   "cell_type": "markdown",
   "metadata": {},
   "source": [
    "## Change Log\n"
   ]
  },
  {
   "cell_type": "markdown",
   "metadata": {},
   "source": [
    "| Date (YYYY-MM-DD) | Version | Changed By        | Change Description                 |\n",
    "| ----------------- | ------- | ----------------- | ---------------------------------- |\n",
    "| 2022-01-19        | 0.3     | Lakshmi Holla     | Added changes in the markdown      |\n",
    "| 2021-06-25        | 0.2     | Malika            | Updated GitHub job json link       |\n",
    "| 2020-10-17        | 0.1     | Ramesh Sannareddy | Created initial version of the lab |\n"
   ]
  },
  {
   "cell_type": "markdown",
   "metadata": {},
   "source": [
    "Copyright © 2022 IBM Corporation. All rights reserved.\n"
   ]
  }
 ],
 "metadata": {
  "kernelspec": {
   "display_name": "Python 3 (ipykernel)",
   "language": "python",
   "name": "python3"
  },
  "language_info": {
   "codemirror_mode": {
    "name": "ipython",
    "version": 3
   },
   "file_extension": ".py",
   "mimetype": "text/x-python",
   "name": "python",
   "nbconvert_exporter": "python",
   "pygments_lexer": "ipython3",
   "version": "3.9.12"
  }
 },
 "nbformat": 4,
 "nbformat_minor": 4
}
